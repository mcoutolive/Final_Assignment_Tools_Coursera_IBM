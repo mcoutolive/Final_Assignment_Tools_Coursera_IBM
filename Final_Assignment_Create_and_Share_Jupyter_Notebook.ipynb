{
 "cells": [
  {
   "cell_type": "markdown",
   "metadata": {},
   "source": [
    "# Final Assignment - Create and Share your Jupyter Notebook"
   ]
  },
  {
   "cell_type": "markdown",
   "metadata": {},
   "source": [
    "## Jupyter Notebook Introduction"
   ]
  },
  {
   "cell_type": "markdown",
   "metadata": {},
   "source": [
    "### List Data Science Languages:\n",
    "- R\n",
    "- Python"
   ]
  },
  {
   "cell_type": "markdown",
   "metadata": {},
   "source": [
    "### List Data Science Libraries:\n",
    "- Pandas\n",
    "- Numpy\n",
    "- Scikit-learn\n",
    "- Statsmodels\n",
    "- Keras\n",
    "- PyTorch"
   ]
  },
  {
   "cell_type": "markdown",
   "metadata": {},
   "source": [
    "| Languages | Libraries | Tools |\n",
    "| :- | -: | :-: |\n",
    "| Python | Pandas, Numpy and Scikit-learn | Jupyter Notebook\n",
    "| R | Data.table, Dplyr, Ggplot2 and Caret | RStudio"
   ]
  },
  {
   "cell_type": "code",
   "execution_count": 1,
   "metadata": {},
   "outputs": [
    {
     "name": "stdout",
     "output_type": "stream",
     "text": [
      "16.3\n"
     ]
    }
   ],
   "source": [
    "# Arithmetic expression example\n",
    "\n",
    "x = 15 + 1.3\n",
    "\n",
    "print(x)"
   ]
  },
  {
   "cell_type": "code",
   "execution_count": 7,
   "metadata": {},
   "outputs": [
    {
     "name": "stdout",
     "output_type": "stream",
     "text": [
      "3*4 = 12\n",
      "2+4 = 6\n"
     ]
    }
   ],
   "source": [
    "# Multiply numbers\n",
    "def multiply(a,b):\n",
    "    return a*b\n",
    "\n",
    "# Add numbers\n",
    "def add(a,b):\n",
    "    return a+b\n",
    "\n",
    "print('3*4 =',multiply(3,4))\n",
    "print('2+4 =',add(2,4))"
   ]
  },
  {
   "cell_type": "code",
   "execution_count": 10,
   "metadata": {},
   "outputs": [
    {
     "name": "stdout",
     "output_type": "stream",
     "text": [
      "120 minutes = 2.0 h\n"
     ]
    }
   ],
   "source": [
    "# Convert minutes to hours\n",
    "def convert_minutes_to_hours(minutes):\n",
    "    return minutes/60\n",
    "\n",
    "print(f'120 minutes = {convert_minutes_to_hours(120)} h')"
   ]
  },
  {
   "cell_type": "markdown",
   "metadata": {},
   "source": [
    "#### List of goals:\n",
    "- Learn Python\n",
    "- Create a Jupyter Notebook file\n",
    "- Learn Machine Learning\n",
    "- Learn DataScience"
   ]
  },
  {
   "cell_type": "markdown",
   "metadata": {},
   "source": [
    "#### Author's name: Murilo Couto de Oliveira"
   ]
  },
  {
   "cell_type": "markdown",
   "metadata": {},
   "source": [
    "##"
   ]
  },
  {
   "cell_type": "markdown",
   "metadata": {},
   "source": [
    "###"
   ]
  }
 ],
 "metadata": {
  "kernelspec": {
   "display_name": "Python 3",
   "language": "python",
   "name": "python3"
  },
  "language_info": {
   "codemirror_mode": {
    "name": "ipython",
    "version": 3
   },
   "file_extension": ".py",
   "mimetype": "text/x-python",
   "name": "python",
   "nbconvert_exporter": "python",
   "pygments_lexer": "ipython3",
   "version": "3.10.7"
  },
  "orig_nbformat": 4
 },
 "nbformat": 4,
 "nbformat_minor": 2
}
